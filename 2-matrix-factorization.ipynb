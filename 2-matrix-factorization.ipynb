{
 "cells": [
  {
   "cell_type": "markdown",
   "id": "17309866-6701-49d6-a539-2a29026acf7a",
   "metadata": {},
   "source": [
    "# Matrix Factorization\n",
    "\n",
    "The first model to compare with baseline is matrix factorization. Since we need to train implicit data, we consider Alternating Least Squares (ALS) as MF model which simple and truely competitive."
   ]
  },
  {
   "cell_type": "code",
   "execution_count": 20,
   "id": "66356a8c-3ef5-48e0-9d0a-013be87a05a4",
   "metadata": {},
   "outputs": [],
   "source": [
    "import pickle\n",
    "\n",
    "import numpy as np\n",
    "import pandas as pd\n",
    "\n",
    "from implicit.als import AlternatingLeastSquares\n",
    "from scipy import sparse\n",
    "from tqdm.auto import tqdm"
   ]
  },
  {
   "cell_type": "markdown",
   "id": "c25f2da9-26c2-42b4-a048-be379337bff1",
   "metadata": {},
   "source": [
    "## Load data"
   ]
  },
  {
   "cell_type": "code",
   "execution_count": 4,
   "id": "08f8a6c9-fea7-48a0-9d93-ebd90ef62e5a",
   "metadata": {},
   "outputs": [],
   "source": [
    "train = pd.read_parquet(\"./data/train.parquet\")\n",
    "valid = pd.read_parquet(\"./data/valid.parquet\")\n",
    "test = pd.read_parquet(\"./data/test.parquet\")"
   ]
  },
  {
   "cell_type": "code",
   "execution_count": 12,
   "id": "a8e15e98-a8c1-4897-80d0-7ba1e1873a3a",
   "metadata": {},
   "outputs": [],
   "source": [
    "with open(\"./data/user_mapper.dict\", \"rb\") as f:\n",
    "    user_mapper =  pickle.load(f)\n",
    "with open(\"./data/item_mapper.dict\", \"rb\") as f:\n",
    "    item_mapper =  pickle.load(f)"
   ]
  },
  {
   "cell_type": "code",
   "execution_count": 14,
   "id": "88e1ab74-d6fa-44ac-a446-6ba112e5d67b",
   "metadata": {},
   "outputs": [],
   "source": [
    "train_mat = np.zeros((len(user_mapper), len(item_mapper)))\n",
    "valid_mat = np.zeros((len(user_mapper), len(item_mapper)))\n",
    "test_mat = np.zeros((len(user_mapper), len(item_mapper)))"
   ]
  },
  {
   "cell_type": "code",
   "execution_count": 18,
   "id": "f1db7304-3dbe-454d-a71e-6141197d2b3a",
   "metadata": {},
   "outputs": [
    {
     "data": {
      "application/vnd.jupyter.widget-view+json": {
       "model_id": "b7b3816e78924a77921c090a36154128",
       "version_major": 2,
       "version_minor": 0
      },
      "text/plain": [
       "  0%|          | 0/1022381 [00:00<?, ?it/s]"
      ]
     },
     "metadata": {},
     "output_type": "display_data"
    },
    {
     "data": {
      "application/vnd.jupyter.widget-view+json": {
       "model_id": "97d235ebba024cf7972a38c840c7a730",
       "version_major": 2,
       "version_minor": 0
      },
      "text/plain": [
       "  0%|          | 0/220993 [00:00<?, ?it/s]"
      ]
     },
     "metadata": {},
     "output_type": "display_data"
    },
    {
     "data": {
      "application/vnd.jupyter.widget-view+json": {
       "model_id": "9575ccca00244c07a69b7bbe55f88f29",
       "version_major": 2,
       "version_minor": 0
      },
      "text/plain": [
       "  0%|          | 0/222265 [00:00<?, ?it/s]"
      ]
     },
     "metadata": {},
     "output_type": "display_data"
    }
   ],
   "source": [
    "for _, user, item, rating in tqdm(train.itertuples(), total=len(train)):\n",
    "    train_mat[user, item] = 1\n",
    "\n",
    "for _, user, item, rating in tqdm(valid.itertuples(), total=len(valid)):\n",
    "    valid_mat[user, item] = 1\n",
    "\n",
    "for _, user, item, rating in tqdm(test.itertuples(), total=len(test)):\n",
    "    test_mat[user, item] = 1"
   ]
  },
  {
   "cell_type": "code",
   "execution_count": 22,
   "id": "a192826c-c46d-4948-8ced-21e691f8bded",
   "metadata": {},
   "outputs": [],
   "source": [
    "train_csr = sparse.csr_matrix(train_mat)\n",
    "valid_csr = sparse.csr_matrix(valid_mat)\n",
    "test_csr = sparse.csr_matrix(test_mat)"
   ]
  },
  {
   "cell_type": "markdown",
   "id": "9ae39350-f51f-4cd5-8454-9b259d8a82bd",
   "metadata": {},
   "source": [
    "## Modeling"
   ]
  },
  {
   "cell_type": "code",
   "execution_count": 23,
   "id": "9caad7f7-2a51-4855-98f7-8eb6e8ae406c",
   "metadata": {},
   "outputs": [],
   "source": [
    "alpha = 40.\n",
    "\n",
    "train_csr = train_csr * alpha\n",
    "valid_csr = valid_csr * alpha"
   ]
  },
  {
   "cell_type": "code",
   "execution_count": 92,
   "id": "9168ed93-2758-4a2c-92d3-c43141f99d59",
   "metadata": {},
   "outputs": [],
   "source": [
    "model = AlternatingLeastSquares(\n",
    "    factors=64,\n",
    "    regularization=0.01,\n",
    "    iterations=1,\n",
    "    random_state=22,\n",
    ")"
   ]
  },
  {
   "cell_type": "code",
   "execution_count": null,
   "id": "5300c9f2-81f8-4989-bdea-09e3c4df8d7b",
   "metadata": {},
   "outputs": [
    {
     "data": {
      "application/vnd.jupyter.widget-view+json": {
       "model_id": "74a478b2bb064631ad2efe96570fe2c7",
       "version_major": 2,
       "version_minor": 0
      },
      "text/plain": [
       "  0%|          | 0/15 [00:00<?, ?it/s]"
      ]
     },
     "metadata": {},
     "output_type": "display_data"
    }
   ],
   "source": [
    "model.fit(train_csr)"
   ]
  },
  {
   "cell_type": "code",
   "execution_count": 91,
   "id": "57df17ac-a05a-4cd7-b04d-8e6a63ddc933",
   "metadata": {},
   "outputs": [
    {
     "data": {
      "text/plain": [
       "(array([32273, 20069, 22092,  5457, 40038,  3133, 25945, 24425,  6567,\n",
       "         5079, 45237, 10144, 51855, 32348, 29328, 48594, 48637,   245,\n",
       "        12768, 12866,  7643, 25070,   565, 45804, 45841,  2848, 18249,\n",
       "        23738, 24671,  6435, 38337, 44728], dtype=int32),\n",
       " array([1.2044903 , 1.101104  , 1.0891685 , 1.0588266 , 1.0465364 ,\n",
       "        1.0130321 , 1.0114012 , 1.0112301 , 1.0091028 , 1.0066841 ,\n",
       "        0.99797326, 0.9848322 , 0.98256505, 0.9741199 , 0.9733227 ,\n",
       "        0.9618347 , 0.96148384, 0.95805734, 0.94813496, 0.94772613,\n",
       "        0.9436702 , 0.9376612 , 0.93549174, 0.9280097 , 0.91752446,\n",
       "        0.9174148 , 0.9172937 , 0.9143025 , 0.91160214, 0.9112837 ,\n",
       "        0.90554917, 0.9048336 ], dtype=float32))"
      ]
     },
     "execution_count": 91,
     "metadata": {},
     "output_type": "execute_result"
    }
   ],
   "source": [
    "model.recommend(0, train_csr[0], N=32, filter_already_liked_items=True)"
   ]
  },
  {
   "cell_type": "markdown",
   "id": "3abe4264-b439-46f4-9d2d-fd78de406a03",
   "metadata": {},
   "source": [
    "```\n",
    "(array([32273, 30131,  3133, 40038,  7141,  1684, 20069, 27267, 24561,\n",
    "        19627, 11124, 34856, 25945, 45052, 15750, 46222, 20147,  6850,\n",
    "        38321,  6751, 18253, 45436,   628, 49855, 14101,  7643, 35249,\n",
    "        28894, 25439, 34119, 52706, 26291], dtype=int32),\n",
    " array([0.84358174, 0.812567  , 0.7517934 , 0.7254622 , 0.7208959 ,\n",
    "        0.72008276, 0.7066336 , 0.7026261 , 0.6762129 , 0.6734191 ,\n",
    "        0.67070127, 0.6703811 , 0.6582423 , 0.6354214 , 0.63338333,\n",
    "        0.62986785, 0.6207571 , 0.6168754 , 0.6130548 , 0.60986245,\n",
    "        0.60888875, 0.6077634 , 0.6017588 , 0.60080343, 0.5926179 ,\n",
    "        0.5856929 , 0.58440983, 0.5822266 , 0.57806206, 0.5760103 ,\n",
    "        0.5744134 , 0.5718856 ], dtype=float32))\n",
    "```"
   ]
  },
  {
   "cell_type": "code",
   "execution_count": 29,
   "id": "25507707-90be-49c6-8512-84f6e264a4d2",
   "metadata": {},
   "outputs": [
    {
     "data": {
      "text/plain": [
       "1"
      ]
     },
     "execution_count": 29,
     "metadata": {},
     "output_type": "execute_result"
    }
   ],
   "source": [
    "model.iterations"
   ]
  },
  {
   "cell_type": "code",
   "execution_count": 28,
   "id": "abe14b54-6443-4502-b3be-e8819eceb797",
   "metadata": {},
   "outputs": [
    {
     "data": {
      "application/vnd.jupyter.widget-view+json": {
       "model_id": "bb11a50718f145a0ab16297c7506acc3",
       "version_major": 2,
       "version_minor": 0
      },
      "text/plain": [
       "  0%|          | 0/1 [00:00<?, ?it/s]"
      ]
     },
     "metadata": {},
     "output_type": "display_data"
    }
   ],
   "source": [
    "model.fit(train_csr)"
   ]
  },
  {
   "cell_type": "code",
   "execution_count": null,
   "id": "858dfeda-026a-434b-91da-5d88f5a7b8f6",
   "metadata": {},
   "outputs": [],
   "source": []
  }
 ],
 "metadata": {
  "environment": {
   "kernel": "python3",
   "name": "tf2-gpu.2-8.m93",
   "type": "gcloud",
   "uri": "gcr.io/deeplearning-platform-release/tf2-gpu.2-8:m93"
  },
  "kernelspec": {
   "display_name": "Python 3",
   "language": "python",
   "name": "python3"
  },
  "language_info": {
   "codemirror_mode": {
    "name": "ipython",
    "version": 3
   },
   "file_extension": ".py",
   "mimetype": "text/x-python",
   "name": "python",
   "nbconvert_exporter": "python",
   "pygments_lexer": "ipython3",
   "version": "3.7.12"
  }
 },
 "nbformat": 4,
 "nbformat_minor": 5
}
