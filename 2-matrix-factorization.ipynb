{
 "cells": [
  {
   "cell_type": "markdown",
   "id": "17309866-6701-49d6-a539-2a29026acf7a",
   "metadata": {},
   "source": [
    "# Matrix Factorization\n",
    "\n",
    "The first model to compare with baseline is matrix factorization. Since we need to train implicit data, we consider Alternating Least Squares (ALS) as MF model which simple and truely competitive."
   ]
  },
  {
   "cell_type": "code",
   "execution_count": 20,
   "id": "66356a8c-3ef5-48e0-9d0a-013be87a05a4",
   "metadata": {},
   "outputs": [],
   "source": [
    "import pickle\n",
    "\n",
    "import numpy as np\n",
    "import pandas as pd\n",
    "\n",
    "from implicit.als import AlternatingLeastSquares\n",
    "from scipy import sparse\n",
    "from tqdm.auto import tqdm"
   ]
  },
  {
   "cell_type": "markdown",
   "id": "c25f2da9-26c2-42b4-a048-be379337bff1",
   "metadata": {},
   "source": [
    "## Load data"
   ]
  },
  {
   "cell_type": "code",
   "execution_count": 4,
   "id": "08f8a6c9-fea7-48a0-9d93-ebd90ef62e5a",
   "metadata": {},
   "outputs": [],
   "source": [
    "train = pd.read_parquet(\"./data/train.parquet\")\n",
    "valid = pd.read_parquet(\"./data/valid.parquet\")\n",
    "test = pd.read_parquet(\"./data/test.parquet\")"
   ]
  },
  {
   "cell_type": "code",
   "execution_count": 12,
   "id": "a8e15e98-a8c1-4897-80d0-7ba1e1873a3a",
   "metadata": {},
   "outputs": [],
   "source": [
    "with open(\"./data/user_mapper.dict\", \"rb\") as f:\n",
    "    user_mapper =  pickle.load(f)\n",
    "with open(\"./data/item_mapper.dict\", \"rb\") as f:\n",
    "    item_mapper =  pickle.load(f)"
   ]
  },
  {
   "cell_type": "code",
   "execution_count": 14,
   "id": "88e1ab74-d6fa-44ac-a446-6ba112e5d67b",
   "metadata": {},
   "outputs": [],
   "source": [
    "train_mat = np.zeros((len(user_mapper), len(item_mapper)))\n",
    "valid_mat = np.zeros((len(user_mapper), len(item_mapper)))\n",
    "test_mat = np.zeros((len(user_mapper), len(item_mapper)))"
   ]
  },
  {
   "cell_type": "code",
   "execution_count": 18,
   "id": "f1db7304-3dbe-454d-a71e-6141197d2b3a",
   "metadata": {},
   "outputs": [
    {
     "data": {
      "application/vnd.jupyter.widget-view+json": {
       "model_id": "b7b3816e78924a77921c090a36154128",
       "version_major": 2,
       "version_minor": 0
      },
      "text/plain": [
       "  0%|          | 0/1022381 [00:00<?, ?it/s]"
      ]
     },
     "metadata": {},
     "output_type": "display_data"
    },
    {
     "data": {
      "application/vnd.jupyter.widget-view+json": {
       "model_id": "97d235ebba024cf7972a38c840c7a730",
       "version_major": 2,
       "version_minor": 0
      },
      "text/plain": [
       "  0%|          | 0/220993 [00:00<?, ?it/s]"
      ]
     },
     "metadata": {},
     "output_type": "display_data"
    },
    {
     "data": {
      "application/vnd.jupyter.widget-view+json": {
       "model_id": "9575ccca00244c07a69b7bbe55f88f29",
       "version_major": 2,
       "version_minor": 0
      },
      "text/plain": [
       "  0%|          | 0/222265 [00:00<?, ?it/s]"
      ]
     },
     "metadata": {},
     "output_type": "display_data"
    }
   ],
   "source": [
    "for _, user, item, rating in tqdm(train.itertuples(), total=len(train)):\n",
    "    train_mat[user, item] = 1\n",
    "\n",
    "for _, user, item, rating in tqdm(valid.itertuples(), total=len(valid)):\n",
    "    valid_mat[user, item] = 1\n",
    "\n",
    "for _, user, item, rating in tqdm(test.itertuples(), total=len(test)):\n",
    "    test_mat[user, item] = 1"
   ]
  },
  {
   "cell_type": "code",
   "execution_count": 22,
   "id": "a192826c-c46d-4948-8ced-21e691f8bded",
   "metadata": {},
   "outputs": [],
   "source": [
    "train_csr = sparse.csr_matrix(train_mat)\n",
    "valid_csr = sparse.csr_matrix(valid_mat)\n",
    "test_csr = sparse.csr_matrix(test_mat)"
   ]
  },
  {
   "cell_type": "markdown",
   "id": "9ae39350-f51f-4cd5-8454-9b259d8a82bd",
   "metadata": {},
   "source": [
    "## Modeling"
   ]
  },
  {
   "cell_type": "code",
   "execution_count": 23,
   "id": "9caad7f7-2a51-4855-98f7-8eb6e8ae406c",
   "metadata": {},
   "outputs": [],
   "source": [
    "alpha = 40.\n",
    "\n",
    "train_csr = train_csr * alpha\n",
    "valid_csr = valid_csr * alpha"
   ]
  },
  {
   "cell_type": "code",
   "execution_count": 30,
   "id": "9168ed93-2758-4a2c-92d3-c43141f99d59",
   "metadata": {},
   "outputs": [],
   "source": [
    "model = AlternatingLeastSquares(\n",
    "    factors=64,\n",
    "    regularization=0.01,\n",
    "    iterations=1,\n",
    "    random_state=0,\n",
    ")"
   ]
  },
  {
   "cell_type": "code",
   "execution_count": 31,
   "id": "5300c9f2-81f8-4989-bdea-09e3c4df8d7b",
   "metadata": {},
   "outputs": [
    {
     "data": {
      "application/vnd.jupyter.widget-view+json": {
       "model_id": "1ad011f342e34976a23fb72160b927f9",
       "version_major": 2,
       "version_minor": 0
      },
      "text/plain": [
       "  0%|          | 0/1 [00:00<?, ?it/s]"
      ]
     },
     "metadata": {},
     "output_type": "display_data"
    }
   ],
   "source": [
    "model.fit(train_csr)"
   ]
  },
  {
   "cell_type": "code",
   "execution_count": 35,
   "id": "377eec8e-5a31-44fd-982d-acda56eab89e",
   "metadata": {},
   "outputs": [
    {
     "data": {
      "text/plain": [
       "(array([33277, 46691, 12087, 33035, 15644, 22092, 36867, 40038, 25845,\n",
       "        40202, 44728, 48637,  7141, 29597, 55921, 21488, 16609, 22056,\n",
       "         3583, 23543, 29736, 15391,  3133, 21049, 25645, 45841, 37218,\n",
       "        20363, 46455, 44057, 41039, 43984], dtype=int32),\n",
       " array([1.3365017, 1.2689261, 1.2597394, 1.2145134, 1.2069377, 1.1848722,\n",
       "        1.1714611, 1.1572101, 1.1547256, 1.148337 , 1.1452827, 1.121942 ,\n",
       "        1.1141772, 1.1061432, 1.0975329, 1.0939169, 1.0913292, 1.0862386,\n",
       "        1.0818   , 1.0556585, 1.053215 , 1.0524387, 1.0522645, 1.0451792,\n",
       "        1.0431015, 1.0397195, 1.0386037, 1.0368847, 1.0258074, 1.0253582,\n",
       "        1.024171 , 1.0189586], dtype=float32))"
      ]
     },
     "execution_count": 35,
     "metadata": {},
     "output_type": "execute_result"
    }
   ],
   "source": [
    "model.recommend(0, train_csr[0], N=32, filter_already_liked_items=True)"
   ]
  },
  {
   "cell_type": "code",
   "execution_count": 29,
   "id": "25507707-90be-49c6-8512-84f6e264a4d2",
   "metadata": {},
   "outputs": [
    {
     "data": {
      "text/plain": [
       "1"
      ]
     },
     "execution_count": 29,
     "metadata": {},
     "output_type": "execute_result"
    }
   ],
   "source": [
    "model.iterations"
   ]
  },
  {
   "cell_type": "code",
   "execution_count": 28,
   "id": "abe14b54-6443-4502-b3be-e8819eceb797",
   "metadata": {},
   "outputs": [
    {
     "data": {
      "application/vnd.jupyter.widget-view+json": {
       "model_id": "bb11a50718f145a0ab16297c7506acc3",
       "version_major": 2,
       "version_minor": 0
      },
      "text/plain": [
       "  0%|          | 0/1 [00:00<?, ?it/s]"
      ]
     },
     "metadata": {},
     "output_type": "display_data"
    }
   ],
   "source": [
    "model.fit(train_csr)"
   ]
  },
  {
   "cell_type": "code",
   "execution_count": null,
   "id": "858dfeda-026a-434b-91da-5d88f5a7b8f6",
   "metadata": {},
   "outputs": [],
   "source": []
  }
 ],
 "metadata": {
  "environment": {
   "kernel": "python3",
   "name": "tf2-gpu.2-8.m93",
   "type": "gcloud",
   "uri": "gcr.io/deeplearning-platform-release/tf2-gpu.2-8:m93"
  },
  "kernelspec": {
   "display_name": "Python 3",
   "language": "python",
   "name": "python3"
  },
  "language_info": {
   "codemirror_mode": {
    "name": "ipython",
    "version": 3
   },
   "file_extension": ".py",
   "mimetype": "text/x-python",
   "name": "python",
   "nbconvert_exporter": "python",
   "pygments_lexer": "ipython3",
   "version": "3.7.12"
  }
 },
 "nbformat": 4,
 "nbformat_minor": 5
}
