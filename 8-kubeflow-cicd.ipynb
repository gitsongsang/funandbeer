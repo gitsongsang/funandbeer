{
 "cells": [
  {
   "cell_type": "markdown",
   "id": "02ef97d2-73a9-482d-a3e2-32d8b6b10e47",
   "metadata": {},
   "source": [
    "# CI/CD for a Kubeflow pipeline on Vertex AI"
   ]
  },
  {
   "cell_type": "markdown",
   "id": "bcf898c4-a3c9-4b09-95eb-1cfbcd161ebb",
   "metadata": {},
   "source": [
    "In this lab you will walk through authoring of a **Cloud Build** CI/CD workflow that automatically builds, deploys, and runs a Kubeflow pipeline on Vertex AI. You will also integrate your workflow with **GitHub** by setting up a trigger that starts the  workflow when a new tag is applied to the **GitHub** repo hosting the pipeline's code."
   ]
  },
  {
   "cell_type": "markdown",
   "id": "7911d17b-f629-4ed2-b57e-54cd36421772",
   "metadata": {},
   "source": [
    "## Configuring environment settings"
   ]
  },
  {
   "cell_type": "code",
   "execution_count": 69,
   "id": "4fd447e8-9d91-4e2d-9268-2e36aad8b1d4",
   "metadata": {},
   "outputs": [],
   "source": [
    "PROJECT_ID = !(gcloud config get-value project)\n",
    "PROJECT_ID = PROJECT_ID[0]\n",
    "REGION = \"us-east1\"\n",
    "ARTIFACT_STORE = f\"gs://{PROJECT_ID}-beer-artifact-store\""
   ]
  },
  {
   "cell_type": "markdown",
   "id": "08741c51-d557-428c-b290-a73c46c201a1",
   "metadata": {},
   "source": [
    "Let us make sure that the artifact store exists:"
   ]
  },
  {
   "cell_type": "code",
   "execution_count": 70,
   "id": "0e3898c0-049d-44df-8d71-29b2a3a7e5cf",
   "metadata": {},
   "outputs": [
    {
     "name": "stdout",
     "output_type": "stream",
     "text": [
      "gs://qwiklabs-asl-04-5e165f533cac-beer-artifact-store/\n"
     ]
    }
   ],
   "source": [
    "!gsutil ls | grep ^{ARTIFACT_STORE}/$ || gsutil mb -l {REGION} {ARTIFACT_STORE}"
   ]
  },
  {
   "cell_type": "markdown",
   "id": "600983a0-3e3e-4c42-9704-8a5d2bc46ff8",
   "metadata": {},
   "source": [
    "## Creating the KFP CLI builder for Vertex AI\n",
    "### Review the Dockerfile describing the KFP CLI builder"
   ]
  },
  {
   "cell_type": "code",
   "execution_count": 83,
   "id": "222c0acb-fe08-4f5d-9c3d-656e81a95161",
   "metadata": {},
   "outputs": [
    {
     "name": "stdout",
     "output_type": "stream",
     "text": [
      "Overwriting kfp-cli_vertex/Dockerfile\n"
     ]
    }
   ],
   "source": [
    "%%writefile kfp-cli_vertex/Dockerfile\n",
    "\n",
    "FROM gcr.io/deeplearning-platform-release/base-cpu\n",
    "RUN pip install kfp==1.6.6\n",
    "RUN pip install google-cloud-aiplatform==1.3.0\n",
    "RUN pip install -U google-cloud-pipeline-components==0.2.1\n",
    "\n",
    "ENTRYPOINT [\"/bin/bash\"]"
   ]
  },
  {
   "cell_type": "markdown",
   "id": "df03ce8f-eb1d-47dd-950a-a8d02c5ccd38",
   "metadata": {},
   "source": [
    "### Build the image and push it to your project's **Container Registry**."
   ]
  },
  {
   "cell_type": "code",
   "execution_count": 84,
   "id": "5cbdbd2d-3a06-49e8-af2e-812689fb5a6d",
   "metadata": {},
   "outputs": [
    {
     "data": {
      "text/plain": [
       "'gcr.io/qwiklabs-asl-04-5e165f533cac/kfp-cli-vertex:latest'"
      ]
     },
     "execution_count": 84,
     "metadata": {},
     "output_type": "execute_result"
    }
   ],
   "source": [
    "KFP_CLI_IMAGE_NAME = \"kfp-cli-vertex\"\n",
    "KFP_CLI_IMAGE_URI = f\"gcr.io/{PROJECT_ID}/{KFP_CLI_IMAGE_NAME}:latest\"\n",
    "KFP_CLI_IMAGE_URI"
   ]
  },
  {
   "cell_type": "code",
   "execution_count": null,
   "id": "2626a0c1-8166-42fb-8f2f-4d69afdf2b14",
   "metadata": {},
   "outputs": [
    {
     "name": "stdout",
     "output_type": "stream",
     "text": [
      "Creating temporary tarball archive of 4 file(s) totalling 1.4 KiB before compression.\n",
      "Uploading tarball of [kfp-cli_vertex] to [gs://qwiklabs-asl-04-5e165f533cac_cloudbuild/source/1654849811.754844-d56258bb83804c6f8e0c0aaac498f8fb.tgz]\n",
      "Created [https://cloudbuild.googleapis.com/v1/projects/qwiklabs-asl-04-5e165f533cac/locations/global/builds/2c3f9669-ac5f-4978-bfb3-287b974e6b5a].\n",
      "Logs are available at [https://console.cloud.google.com/cloud-build/builds/2c3f9669-ac5f-4978-bfb3-287b974e6b5a?project=547029906128].\n",
      "----------------------------- REMOTE BUILD OUTPUT ------------------------------\n",
      "starting build \"2c3f9669-ac5f-4978-bfb3-287b974e6b5a\"\n",
      "\n",
      "FETCHSOURCE\n",
      "Fetching storage object: gs://qwiklabs-asl-04-5e165f533cac_cloudbuild/source/1654849811.754844-d56258bb83804c6f8e0c0aaac498f8fb.tgz#1654849812059196\n",
      "Copying gs://qwiklabs-asl-04-5e165f533cac_cloudbuild/source/1654849811.754844-d56258bb83804c6f8e0c0aaac498f8fb.tgz#1654849812059196...\n",
      "/ [1 files][  1.1 KiB/  1.1 KiB]                                                \n",
      "Operation completed over 1 objects/1.1 KiB.\n",
      "BUILD\n",
      "Already have image (with digest): gcr.io/cloud-builders/docker\n",
      "Sending build context to Docker daemon  5.632kB\n",
      "Step 1/5 : FROM gcr.io/deeplearning-platform-release/base-cpu\n",
      "latest: Pulling from deeplearning-platform-release/base-cpu\n",
      "d5fd17ec1767: Pulling fs layer\n",
      "adb65a4cea80: Pulling fs layer\n",
      "4f4fb700ef54: Pulling fs layer\n",
      "4ae9dce86192: Pulling fs layer\n",
      "4ae9dce86192: Waiting\n",
      "3c97dd6fc917: Pulling fs layer\n",
      "9a421421a9c6: Pulling fs layer\n",
      "8c3aa27ae5ff: Pulling fs layer\n",
      "ed3dcc4cfb6c: Pulling fs layer\n",
      "3c97dd6fc917: Waiting\n",
      "9a421421a9c6: Waiting\n",
      "8c3aa27ae5ff: Waiting\n",
      "3debde04b610: Pulling fs layer\n",
      "f5164395e213: Pulling fs layer\n",
      "7c0e9eccc936: Pulling fs layer\n",
      "d78c60a0dcbe: Pulling fs layer\n",
      "ff2acd98ca45: Pulling fs layer\n",
      "a11a78983f17: Pulling fs layer\n",
      "6b33fb6f0d3a: Pulling fs layer\n",
      "3293f65cfcaa: Pulling fs layer\n",
      "aa9e1ad00162: Pulling fs layer\n",
      "9c25ce1cf557: Pulling fs layer\n",
      "ed3dcc4cfb6c: Waiting\n",
      "3debde04b610: Waiting\n",
      "f5164395e213: Waiting\n",
      "7c0e9eccc936: Waiting\n",
      "ff2acd98ca45: Waiting\n",
      "a11a78983f17: Waiting\n",
      "d78c60a0dcbe: Waiting\n",
      "6b33fb6f0d3a: Waiting\n",
      "3293f65cfcaa: Waiting\n",
      "aa9e1ad00162: Waiting\n",
      "9c25ce1cf557: Waiting\n",
      "adb65a4cea80: Verifying Checksum\n",
      "adb65a4cea80: Download complete\n",
      "4f4fb700ef54: Verifying Checksum\n",
      "4f4fb700ef54: Download complete\n",
      "d5fd17ec1767: Verifying Checksum\n",
      "d5fd17ec1767: Download complete\n",
      "9a421421a9c6: Verifying Checksum\n",
      "9a421421a9c6: Download complete\n",
      "8c3aa27ae5ff: Verifying Checksum\n",
      "8c3aa27ae5ff: Download complete\n",
      "ed3dcc4cfb6c: Verifying Checksum\n",
      "ed3dcc4cfb6c: Download complete\n",
      "3c97dd6fc917: Verifying Checksum\n",
      "3c97dd6fc917: Download complete\n",
      "3debde04b610: Verifying Checksum\n",
      "3debde04b610: Download complete\n",
      "f5164395e213: Verifying Checksum\n",
      "f5164395e213: Download complete\n",
      "7c0e9eccc936: Verifying Checksum\n",
      "7c0e9eccc936: Download complete\n",
      "d78c60a0dcbe: Verifying Checksum\n",
      "d78c60a0dcbe: Download complete\n",
      "a11a78983f17: Verifying Checksum\n",
      "a11a78983f17: Download complete\n",
      "ff2acd98ca45: Verifying Checksum\n",
      "ff2acd98ca45: Download complete\n",
      "3293f65cfcaa: Verifying Checksum\n",
      "3293f65cfcaa: Download complete\n",
      "6b33fb6f0d3a: Verifying Checksum\n",
      "6b33fb6f0d3a: Download complete\n",
      "9c25ce1cf557: Verifying Checksum\n",
      "9c25ce1cf557: Download complete\n",
      "4ae9dce86192: Verifying Checksum\n",
      "4ae9dce86192: Download complete\n",
      "d5fd17ec1767: Pull complete\n",
      "adb65a4cea80: Pull complete\n",
      "4f4fb700ef54: Pull complete\n",
      "aa9e1ad00162: Verifying Checksum\n",
      "aa9e1ad00162: Download complete\n"
     ]
    }
   ],
   "source": [
    "!gcloud builds submit --timeout 15m --tag {KFP_CLI_IMAGE_URI} kfp-cli_vertex"
   ]
  },
  {
   "cell_type": "code",
   "execution_count": null,
   "id": "321704eb-afa1-4102-9e7e-37315b44d19a",
   "metadata": {},
   "outputs": [],
   "source": [
    "%%writefile cloudbuild_vertex.yaml\n",
    "# Copyright 2021 Google LLC\n",
    "\n",
    "# Licensed under the Apache License, Version 2.0 (the \"License\"); you may not use this\n",
    "# file except in compliance with the License. You may obtain a copy of the License at\n",
    "\n",
    "# https://www.apache.org/licenses/LICENSE-2.0\n",
    "    \n",
    "# Unless required by applicable law or agreed to in writing, software \n",
    "# distributed under the License is distributed on an \"AS IS\"\n",
    "# BASIS, WITHOUT WARRANTIES OR CONDITIONS OF ANY KIND, either \n",
    "# express or implied. See the License for the specific language governing \n",
    "# permissions and limitations under the License.\n",
    "\n",
    "steps:\n",
    "# Build the trainer image\n",
    "- name: 'gcr.io/cloud-builders/docker'\n",
    "  args: ['build', '-t', 'gcr.io/$PROJECT_ID/trainer_image_beer_vertex:latest', '.']\n",
    "  dir: $_PIPELINE_FOLDER\n",
    "\n",
    "# Compile the pipeline\n",
    "- name: 'gcr.io/$PROJECT_ID/kfp-cli-vertex'\n",
    "  args:\n",
    "  - '-c'\n",
    "  - |\n",
    "    dsl-compile-v2 --py pipeline_prebuilt.py --output beer_kfp_pipline.json\n",
    "  env:\n",
    "  - 'PIPELINE_ROOT=gs://$PROJECT_ID-kfp-artifact-store/pipeline'\n",
    "  - 'PROJECT_ID=$PROJECT_ID'\n",
    "  - 'REGION=$_REGION'\n",
    "  - 'SERVING_CONTAINER_IMAGE_URI=us-docker.pkg.dev/vertex-ai/prediction/sklearn-cpu.0-20:latest'\n",
    "  - 'TRAINING_CONTAINER_IMAGE_URI=gcr.io/$PROJECT_ID/trainer_image_beer_vertex:latest'\n",
    "  - 'TRAINING_FILE_PATH=gs://$PROJECT_ID-kfp-artifact-store/data/train.parquet'\n",
    "  - 'VALIDATION_FILE_PATH=gs://$PROJECT_ID-kfp-artifact-store/data/valid.parquet'\n",
    "  dir: pipeline\n",
    "  \n",
    "# Run the pipeline\n",
    "- name: 'gcr.io/$PROJECT_ID/kfp-cli-vertex'\n",
    "  args:\n",
    "  - '-c'\n",
    "  - |\n",
    "    python kfp-cli_vertex/run_pipeline.py \\\n",
    "    --project_id=$PROJECT_ID \\\n",
    "    --template_path=./pipeline/beer_kfp_pipeline.json \\\n",
    "    --display_name=beer_kfp_pipeline \\\n",
    "    --region=$_REGION\n",
    "    \n",
    "# Push the images to Container Registry\n",
    "# TODO: List the images to be pushed to the project Docker registry\n",
    "images: ['gcr.io/$PROJECT_ID/trainer_image_beer_vertex:latest']\n",
    "\n",
    "\n",
    "# This is required since the pipeline run overflows the default timeout\n",
    "timeout: 10800s\n"
   ]
  },
  {
   "cell_type": "markdown",
   "id": "1ff1a1ad-0bf3-4b10-8644-2da585814c20",
   "metadata": {},
   "source": [
    "## Manually triggering CI/CD runs\n",
    "\n",
    "You can manually trigger **Cloud Build** runs using the [gcloud builds submit command]( https://cloud.google.com/sdk/gcloud/reference/builds/submit)."
   ]
  },
  {
   "cell_type": "code",
   "execution_count": null,
   "id": "d17b109e-3e4f-4063-9919-866407753f69",
   "metadata": {},
   "outputs": [],
   "source": [
    "SUBSTITUTIONS = f\"_REGION={REGION},_PIPELINE_FOLDER=./training_app\"\n",
    "SUBSTITUTIONS"
   ]
  },
  {
   "cell_type": "code",
   "execution_count": null,
   "id": "d937d2ba-2b59-4511-8dbc-55ed2f3bbd57",
   "metadata": {},
   "outputs": [],
   "source": [
    "!gcloud builds submit . --config cloudbuild_vertex.yaml --substitutions {SUBSTITUTIONS}"
   ]
  },
  {
   "cell_type": "code",
   "execution_count": null,
   "id": "a3b30cdc-d470-4190-a3ab-2c4ba69ea453",
   "metadata": {},
   "outputs": [],
   "source": []
  }
 ],
 "metadata": {
  "environment": {
   "kernel": "python3",
   "name": "tf2-gpu.2-6.m91",
   "type": "gcloud",
   "uri": "gcr.io/deeplearning-platform-release/tf2-gpu.2-6:m91"
  },
  "kernelspec": {
   "display_name": "Python 3",
   "language": "python",
   "name": "python3"
  },
  "language_info": {
   "codemirror_mode": {
    "name": "ipython",
    "version": 3
   },
   "file_extension": ".py",
   "mimetype": "text/x-python",
   "name": "python",
   "nbconvert_exporter": "python",
   "pygments_lexer": "ipython3",
   "version": "3.7.12"
  }
 },
 "nbformat": 4,
 "nbformat_minor": 5
}
