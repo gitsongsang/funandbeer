{
 "cells": [
  {
   "cell_type": "markdown",
   "id": "09fb65ae-7eae-4b37-a4a9-e9715388d40a",
   "metadata": {},
   "source": [
    "# Baseline Model\n",
    "\n",
    "The baseline model is that the recommender which provides the most common/popular items to users.\n",
    "The most common/popular items is defined by some criterions which will covered afterward.\n",
    "Before we build the model, we decide to use implicit feedback despite the data contains explicit ratings.\n",
    "It would be a positive feedback which means 1 if a rating is greater than 3, otherwise 0."
   ]
  },
  {
   "cell_type": "code",
   "execution_count": 21,
   "id": "d2e12e8e-da30-4685-98bf-718abb1c65ae",
   "metadata": {},
   "outputs": [],
   "source": [
    "import pickle\n",
    "\n",
    "import pandas as pd\n",
    "import numpy as np\n",
    "from google.cloud import bigquery\n",
    "from sklearn.preprocessing import LabelEncoder\n",
    "from tqdm.auto import tqdm\n",
    "\n",
    "from utils.metrics import *"
   ]
  },
  {
   "cell_type": "code",
   "execution_count": 2,
   "id": "1d2128f1-54e2-46d3-9d2b-cef337cfa6fe",
   "metadata": {},
   "outputs": [],
   "source": [
    "def load_data(data: str) -> pd.DataFrame:\n",
    "    assert data in [\"train\", \"valid\", \"test\"]\n",
    "\n",
    "    query_string = f\"\"\"\n",
    "        SELECT *\n",
    "        FROM `qwiklabs-asl-04-5e165f533cac.beer_recom.{data}`\n",
    "        WHERE review_profilename IS NOT NULL\n",
    "    \"\"\"\n",
    "\n",
    "    bqclient = bigquery.Client()\n",
    "\n",
    "    return (\n",
    "        bqclient.query(query_string)\n",
    "        .result()\n",
    "        .to_dataframe(\n",
    "            # Optionally, explicitly request to use the BigQuery Storage API. As of\n",
    "            # google-cloud-bigquery version 1.26.0 and above, the BigQuery Storage\n",
    "            # API is used by default.\n",
    "            create_bqstorage_client=True,\n",
    "        )\n",
    "        .sort_values(\"review_time\", ignore_index=True)\n",
    "    )"
   ]
  },
  {
   "cell_type": "code",
   "execution_count": 3,
   "id": "51929301-4322-4af1-934b-b8ccd2d80b20",
   "metadata": {},
   "outputs": [],
   "source": [
    "# Download query results.\n",
    "\n",
    "train = load_data(\"train\")\n",
    "valid = load_data(\"valid\")\n",
    "test = load_data(\"test\")"
   ]
  },
  {
   "cell_type": "markdown",
   "id": "5ffbbdc2-dd92-441f-8db8-3677334da128",
   "metadata": {},
   "source": [
    "## Baseline Model (The most common/popular items)\n",
    "### Data Exploration"
   ]
  },
  {
   "cell_type": "code",
   "execution_count": 4,
   "id": "06b3f263-f128-4def-9fe0-321a0d838feb",
   "metadata": {},
   "outputs": [
    {
     "name": "stdout",
     "output_type": "stream",
     "text": [
      "The number of users: 24214\n",
      "The number of beers: 43060\n"
     ]
    }
   ],
   "source": [
    "# The number of users\n",
    "print(\"The number of users:\", train[\"review_profilename\"].nunique())\n",
    "\n",
    "# The number of beers in train set\n",
    "print(\"The number of beers:\", train[\"beer_name\"].nunique())"
   ]
  },
  {
   "cell_type": "code",
   "execution_count": 5,
   "id": "1edaa33c-6c3b-42b9-8b89-1ce1f7086732",
   "metadata": {},
   "outputs": [
    {
     "data": {
      "text/plain": [
       "<AxesSubplot:>"
      ]
     },
     "execution_count": 5,
     "metadata": {},
     "output_type": "execute_result"
    },
    {
     "data": {
      "image/png": "[encoded data removed]",
      "text/plain": [
       "<Figure size 432x288 with 1 Axes>"
      ]
     },
     "metadata": {
      "needs_background": "light"
     },
     "output_type": "display_data"
    }
   ],
   "source": [
    "(\n",
    "    train.groupby([\"beer_name\"])[\"review_overall\"]\n",
    "    .agg([\"mean\", \"count\"])\n",
    "    .query(\"count > 250\")\n",
    "    .reset_index(drop=False)[\"mean\"]\n",
    "    .hist()\n",
    ")"
   ]
  },
  {
   "cell_type": "code",
   "execution_count": 6,
   "id": "7440e21a-591e-4da3-a826-fe786e9b7d26",
   "metadata": {},
   "outputs": [
    {
     "data": {
      "text/html": [
       "<div>\n",
       "<style scoped>\n",
       "    .dataframe tbody tr th:only-of-type {\n",
       "        vertical-align: middle;\n",
       "    }\n",
       "\n",
       "    .dataframe tbody tr th {\n",
       "        vertical-align: top;\n",
       "    }\n",
       "\n",
       "    .dataframe thead th {\n",
       "        text-align: right;\n",
       "    }\n",
       "</style>\n",
       "<table border=\"1\" class=\"dataframe\">\n",
       "  <thead>\n",
       "    <tr style=\"text-align: right;\">\n",
       "      <th></th>\n",
       "      <th>beer_name</th>\n",
       "      <th>mean</th>\n",
       "      <th>count</th>\n",
       "    </tr>\n",
       "  </thead>\n",
       "  <tbody>\n",
       "    <tr>\n",
       "      <th>0</th>\n",
       "      <td>Trappist Westvleteren 12</td>\n",
       "      <td>4.610419</td>\n",
       "      <td>883</td>\n",
       "    </tr>\n",
       "    <tr>\n",
       "      <th>1</th>\n",
       "      <td>Pliny The Younger</td>\n",
       "      <td>4.582809</td>\n",
       "      <td>477</td>\n",
       "    </tr>\n",
       "    <tr>\n",
       "      <th>2</th>\n",
       "      <td>Portsmouth Kate The Great</td>\n",
       "      <td>4.581597</td>\n",
       "      <td>288</td>\n",
       "    </tr>\n",
       "    <tr>\n",
       "      <th>3</th>\n",
       "      <td>Pliny The Elder</td>\n",
       "      <td>4.571666</td>\n",
       "      <td>1507</td>\n",
       "    </tr>\n",
       "    <tr>\n",
       "      <th>4</th>\n",
       "      <td>Masala Mama India Pale Ale</td>\n",
       "      <td>4.532101</td>\n",
       "      <td>514</td>\n",
       "    </tr>\n",
       "    <tr>\n",
       "      <th>...</th>\n",
       "      <td>...</td>\n",
       "      <td>...</td>\n",
       "      <td>...</td>\n",
       "    </tr>\n",
       "    <tr>\n",
       "      <th>89</th>\n",
       "      <td>Siberian Night Imperial Stout</td>\n",
       "      <td>4.211672</td>\n",
       "      <td>574</td>\n",
       "    </tr>\n",
       "    <tr>\n",
       "      <th>90</th>\n",
       "      <td>Big Bear Black Stout</td>\n",
       "      <td>4.211233</td>\n",
       "      <td>819</td>\n",
       "    </tr>\n",
       "    <tr>\n",
       "      <th>91</th>\n",
       "      <td>Great Lakes Eliot Ness</td>\n",
       "      <td>4.211111</td>\n",
       "      <td>630</td>\n",
       "    </tr>\n",
       "    <tr>\n",
       "      <th>92</th>\n",
       "      <td>Fuller's ESB</td>\n",
       "      <td>4.201312</td>\n",
       "      <td>991</td>\n",
       "    </tr>\n",
       "    <tr>\n",
       "      <th>93</th>\n",
       "      <td>Mönchshof Schwarzbier</td>\n",
       "      <td>4.200658</td>\n",
       "      <td>304</td>\n",
       "    </tr>\n",
       "  </tbody>\n",
       "</table>\n",
       "<p>94 rows × 3 columns</p>\n",
       "</div>"
      ],
      "text/plain": [
       "                        beer_name      mean  count\n",
       "0        Trappist Westvleteren 12  4.610419    883\n",
       "1               Pliny The Younger  4.582809    477\n",
       "2       Portsmouth Kate The Great  4.581597    288\n",
       "3                 Pliny The Elder  4.571666   1507\n",
       "4      Masala Mama India Pale Ale  4.532101    514\n",
       "..                            ...       ...    ...\n",
       "89  Siberian Night Imperial Stout  4.211672    574\n",
       "90           Big Bear Black Stout  4.211233    819\n",
       "91         Great Lakes Eliot Ness  4.211111    630\n",
       "92                   Fuller's ESB  4.201312    991\n",
       "93          Mönchshof Schwarzbier  4.200658    304\n",
       "\n",
       "[94 rows x 3 columns]"
      ]
     },
     "execution_count": 6,
     "metadata": {},
     "output_type": "execute_result"
    }
   ],
   "source": [
    "# Recommendations with the most common/popular beers would be the baseline model.\n",
    "# The number of review for each beer should be greater than 250 (10% of users)\n",
    "# The average ratings should be greater than 4.2 (approximately 100 beers)\n",
    "most_common_beers = (\n",
    "    train.groupby([\"beer_name\"])[\"review_overall\"]\n",
    "    .agg([\"mean\", \"count\"])\n",
    "    .reset_index(drop=False)\n",
    "    .query(\"count >= 250\")\n",
    "    .sort_values(\"mean\", ascending=False, ignore_index=True)\n",
    "    .query(\"mean >= 4.2\")\n",
    ")\n",
    "\n",
    "most_common_beers"
   ]
  },
  {
   "cell_type": "markdown",
   "id": "9b7e4dea-b317-4adf-969a-9230a4a396d5",
   "metadata": {},
   "source": [
    "### Pre-processing"
   ]
  },
  {
   "cell_type": "code",
   "execution_count": 7,
   "id": "74c9a34d-56f7-449e-82ae-1385e136abf1",
   "metadata": {},
   "outputs": [],
   "source": [
    "users = pd.concat(\n",
    "    [\n",
    "        train[\"review_profilename\"],\n",
    "        valid[\"review_profilename\"],\n",
    "        test[\"review_profilename\"],\n",
    "    ]\n",
    ")"
   ]
  },
  {
   "cell_type": "markdown",
   "id": "22ac6d6c-fee5-4086-b195-6078355c2464",
   "metadata": {},
   "source": [
    "#### User/Item Mapping"
   ]
  },
  {
   "cell_type": "code",
   "execution_count": 8,
   "id": "de028269-75f3-4db4-b082-953a8e4f2b31",
   "metadata": {},
   "outputs": [],
   "source": [
    "# Make mappers\n",
    "def make_mapper(col: str, reverse=False) -> dict:\n",
    "    arr = pd.concat(\n",
    "        [\n",
    "            train[col],\n",
    "            valid[col],\n",
    "            test[col],\n",
    "        ]\n",
    "    )\n",
    "    d = arr.drop_duplicates().sort_values(ignore_index=True).to_dict()\n",
    "    return {v: k for k, v in d.items()} if reverse else d\n",
    "\n",
    "\n",
    "user_mapper = make_mapper(\"review_profilename\", reverse=True)\n",
    "item_mapper = make_mapper(\"beer_name\", reverse=True)"
   ]
  },
  {
   "cell_type": "code",
   "execution_count": 9,
   "id": "2aa2c227-e91d-4e97-b0d6-c8196e4831b5",
   "metadata": {},
   "outputs": [],
   "source": [
    "def apply_map(df: pd.Series, col: str, mapper: dict) -> pd.Series:\n",
    "    return df[col].map(mapper)"
   ]
  },
  {
   "cell_type": "code",
   "execution_count": 10,
   "id": "b76665c9-18de-48bd-9d0f-e1a292188221",
   "metadata": {},
   "outputs": [],
   "source": [
    "train[\"review_profilename\"] = apply_map(\n",
    "    train, \"review_profilename\", user_mapper\n",
    ")\n",
    "train[\"beer_name\"] = apply_map(train, \"beer_name\", item_mapper)\n",
    "\n",
    "valid[\"review_profilename\"] = apply_map(\n",
    "    valid, \"review_profilename\", user_mapper\n",
    ")\n",
    "valid[\"beer_name\"] = apply_map(valid, \"beer_name\", item_mapper)\n",
    "\n",
    "test[\"review_profilename\"] = apply_map(test, \"review_profilename\", user_mapper)\n",
    "test[\"beer_name\"] = apply_map(test, \"beer_name\", item_mapper)"
   ]
  },
  {
   "cell_type": "code",
   "execution_count": 11,
   "id": "930d8579-e1b9-4bdb-b043-212a515d66e1",
   "metadata": {},
   "outputs": [],
   "source": [
    "most_common_beers[\"beer_name\"] = apply_map(\n",
    "    most_common_beers, \"beer_name\", item_mapper\n",
    ")"
   ]
  },
  {
   "cell_type": "markdown",
   "id": "1b46673b-4d2a-4559-abed-738cd670fa05",
   "metadata": {},
   "source": [
    "### Modeling"
   ]
  },
  {
   "cell_type": "code",
   "execution_count": 12,
   "id": "28dbb7bd-85ed-4527-8c83-05fbe08cc971",
   "metadata": {},
   "outputs": [],
   "source": [
    "train = train[[\"review_profilename\", \"beer_name\", \"review_overall\"]].query(\n",
    "    \"review_overall >= 3\"\n",
    ")\n",
    "valid = valid[[\"review_profilename\", \"beer_name\", \"review_overall\"]].query(\n",
    "    \"review_overall >= 3\"\n",
    ")\n",
    "test = test[[\"review_profilename\", \"beer_name\", \"review_overall\"]].query(\n",
    "    \"review_overall >= 3\"\n",
    ")"
   ]
  },
  {
   "cell_type": "code",
   "execution_count": 13,
   "id": "dde15cc0-e2b3-491d-8d81-806a866a500c",
   "metadata": {},
   "outputs": [],
   "source": [
    "train_mat = np.zeros((len(user_mapper), len(item_mapper)))\n",
    "valid_mat = np.zeros((len(user_mapper), len(item_mapper)))\n",
    "test_mat = np.zeros((len(user_mapper), len(item_mapper)))\n",
    "pred_mat = np.zeros((len(user_mapper), len(item_mapper)))"
   ]
  },
  {
   "cell_type": "code",
   "execution_count": 14,
   "id": "217e8eb5-70a6-4c84-ac3d-aa3b352295fc",
   "metadata": {},
   "outputs": [
    {
     "data": {
      "application/vnd.jupyter.widget-view+json": {
       "model_id": "cb8c59831ebb4bdea8684e40684f90be",
       "version_major": 2,
       "version_minor": 0
      },
      "text/plain": [
       "  0%|          | 0/1022381 [00:00<?, ?it/s]"
      ]
     },
     "metadata": {},
     "output_type": "display_data"
    },
    {
     "data": {
      "application/vnd.jupyter.widget-view+json": {
       "model_id": "4d420f97505c4a9e82912c94774b37b2",
       "version_major": 2,
       "version_minor": 0
      },
      "text/plain": [
       "  0%|          | 0/220993 [00:00<?, ?it/s]"
      ]
     },
     "metadata": {},
     "output_type": "display_data"
    },
    {
     "data": {
      "application/vnd.jupyter.widget-view+json": {
       "model_id": "0ffa19ada88b49c492898cd6467cdd93",
       "version_major": 2,
       "version_minor": 0
      },
      "text/plain": [
       "  0%|          | 0/222265 [00:00<?, ?it/s]"
      ]
     },
     "metadata": {},
     "output_type": "display_data"
    }
   ],
   "source": [
    "for _, user, item, rating in tqdm(train.itertuples(), total=len(train)):\n",
    "    train_mat[user, item] = rating\n",
    "\n",
    "for _, user, item, rating in tqdm(valid.itertuples(), total=len(valid)):\n",
    "    valid_mat[user, item] = rating\n",
    "\n",
    "for _, user, item, rating in tqdm(test.itertuples(), total=len(test)):\n",
    "    test_mat[user, item] = rating"
   ]
  },
  {
   "cell_type": "code",
   "execution_count": 15,
   "id": "5dcf4710-511d-4532-b75c-fff78853fc28",
   "metadata": {},
   "outputs": [
    {
     "data": {
      "application/vnd.jupyter.widget-view+json": {
       "model_id": "40afcdbc4b6c423a9376c0795598cf16",
       "version_major": 2,
       "version_minor": 0
      },
      "text/plain": [
       "  0%|          | 0/94 [00:00<?, ?it/s]"
      ]
     },
     "metadata": {},
     "output_type": "display_data"
    }
   ],
   "source": [
    "for _, item, mean, count in tqdm(\n",
    "    most_common_beers.itertuples(), total=len(most_common_beers)\n",
    "):\n",
    "    pred_mat[:, item] = mean\n",
    "\n",
    "# Remove the-already-seen-items by masking\n",
    "pred_mat[train_mat > 0] = -np.inf\n",
    "\n",
    "# Only consider users that are contained in test set.\n",
    "test_users = test[\"review_profilename\"].unique()\n",
    "pred_mat = pred_mat[test_users]\n",
    "test_mat = test_mat[test_users]"
   ]
  },
  {
   "cell_type": "code",
   "execution_count": 16,
   "id": "590e11c9-fd15-45c3-96c6-51eb56f81a98",
   "metadata": {
    "tags": []
   },
   "outputs": [
    {
     "data": {
      "application/vnd.jupyter.widget-view+json": {
       "model_id": "a3ee886cf9004affa1b75fe7022330ee",
       "version_major": 2,
       "version_minor": 0
      },
      "text/plain": [
       "  0%|          | 0/9085 [00:00<?, ?it/s]"
      ]
     },
     "metadata": {},
     "output_type": "display_data"
    },
    {
     "name": "stdout",
     "output_type": "stream",
     "text": [
      "MAP@10 for baseline: 0.044275\n"
     ]
    }
   ],
   "source": [
    "# Users that did not make any review during test period are excluded from the scoring.\n",
    "map_at_10 = map_at_k(actual=test_mat, pred=pred_mat, top_k=10)\n",
    "\n",
    "print(f\"MAP@10 for baseline: {map_at_10:.6f}\")"
   ]
  },
  {
   "cell_type": "markdown",
   "id": "e73360e2-7896-4486-920f-57ab37319ccc",
   "metadata": {},
   "source": [
    "### Save data for other models"
   ]
  },
  {
   "cell_type": "code",
   "execution_count": 18,
   "id": "c228b265-8c15-48ae-bc3b-dcbebde9f9d6",
   "metadata": {},
   "outputs": [],
   "source": [
    "train.to_parquet(\"./data/train.parquet\")\n",
    "valid.to_parquet(\"./data/valid.parquet\")\n",
    "test.to_parquet(\"./data/test.parquet\")"
   ]
  },
  {
   "cell_type": "code",
   "execution_count": 22,
   "id": "1240d038-e3b2-43e9-b9df-ce8b73d2109f",
   "metadata": {},
   "outputs": [],
   "source": [
    "with open(\"./data/user_mapper.dict\", \"wb\") as f:\n",
    "    pickle.dump(user_mapper, f)\n",
    "with open(\"./data/item_mapper.dict\", \"wb\") as f:\n",
    "    pickle.dump(item_mapper, f)"
   ]
  },
  {
   "cell_type": "code",
   "execution_count": 41,
   "id": "9be7bb74-0eb2-4396-9de9-db596db81413",
   "metadata": {},
   "outputs": [],
   "source": [
    "# Sync Github Done\n",
    "# https://github.com/gitsongsang/asl_team1"
   ]
  },
  {
   "cell_type": "code",
   "execution_count": null,
   "id": "6ab0192b-1a56-431d-86e8-e6e501e483b9",
   "metadata": {},
   "outputs": [],
   "source": []
  }
 ],
 "metadata": {
  "environment": {
   "kernel": "python3",
   "name": "tf2-gpu.2-8.m93",
   "type": "gcloud",
   "uri": "gcr.io/deeplearning-platform-release/tf2-gpu.2-8:m93"
  },
  "kernelspec": {
   "display_name": "Python 3",
   "language": "python",
   "name": "python3"
  },
  "language_info": {
   "codemirror_mode": {
    "name": "ipython",
    "version": 3
   },
   "file_extension": ".py",
   "mimetype": "text/x-python",
   "name": "python",
   "nbconvert_exporter": "python",
   "pygments_lexer": "ipython3",
   "version": "3.7.12"
  }
 },
 "nbformat": 4,
 "nbformat_minor": 5
}
